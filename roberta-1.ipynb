{
 "cells": [
  {
   "cell_type": "markdown",
   "metadata": {},
   "source": [
    "# Section 1: Importing the libraries and reading the dataset"
   ]
  },
  {
   "cell_type": "code",
   "execution_count": 1,
   "metadata": {},
   "outputs": [],
   "source": [
    "import os\n",
    "import numpy as np\n",
    "import pandas as pd\n",
    "import matplotlib.pyplot as plt\n"
   ]
  },
  {
   "cell_type": "code",
   "execution_count": 2,
   "metadata": {},
   "outputs": [],
   "source": [
    "train_path = 'data/train-1.csv'\n",
    "val_path = 'data/val-1.csv'\n",
    "num_workers = 4"
   ]
  },
  {
   "cell_type": "code",
   "execution_count": 3,
   "metadata": {},
   "outputs": [],
   "source": [
    "train_data = pd.read_csv(train_path)\n",
    "val_data = pd.read_csv(val_path)"
   ]
  },
  {
   "cell_type": "code",
   "execution_count": 4,
   "metadata": {},
   "outputs": [],
   "source": [
    "attributes = train_data.columns[1:]"
   ]
  },
  {
   "cell_type": "markdown",
   "metadata": {},
   "source": [
    "# Section 2: Preparing the dataset"
   ]
  },
  {
   "cell_type": "code",
   "execution_count": 5,
   "metadata": {},
   "outputs": [
    {
     "name": "stderr",
     "output_type": "stream",
     "text": [
      "c:\\Users\\patri\\AppData\\Local\\Programs\\Python\\Python311\\Lib\\site-packages\\tqdm\\auto.py:21: TqdmWarning: IProgress not found. Please update jupyter and ipywidgets. See https://ipywidgets.readthedocs.io/en/stable/user_install.html\n",
      "  from .autonotebook import tqdm as notebook_tqdm\n"
     ]
    }
   ],
   "source": [
    "import torch\n",
    "from transformers import AutoTokenizer\n",
    "from NarrativesDataset import NarrativesDataset"
   ]
  },
  {
   "cell_type": "code",
   "execution_count": 6,
   "metadata": {},
   "outputs": [],
   "source": [
    "model_name = 'roberta-base'\n",
    "tokenizer = AutoTokenizer.from_pretrained(model_name)\n",
    "n_ds_train = NarrativesDataset(data_path = train_path, tokenizer = tokenizer, attributes = attributes)\n",
    "n_ds_val = NarrativesDataset(data_path = val_path, tokenizer = tokenizer, attributes = attributes)"
   ]
  },
  {
   "cell_type": "code",
   "execution_count": 7,
   "metadata": {},
   "outputs": [],
   "source": [
    "from DataModule import NarrativesDataModule"
   ]
  },
  {
   "cell_type": "code",
   "execution_count": 8,
   "metadata": {},
   "outputs": [],
   "source": [
    "narratives_data_module = NarrativesDataModule(train_path = train_path, val_path = val_path, attributes = attributes, num_workers = num_workers)"
   ]
  },
  {
   "cell_type": "code",
   "execution_count": 9,
   "metadata": {},
   "outputs": [],
   "source": [
    "narratives_data_module.setup()"
   ]
  },
  {
   "cell_type": "code",
   "execution_count": 10,
   "metadata": {},
   "outputs": [
    {
     "data": {
      "text/plain": [
       "<torch.utils.data.dataloader.DataLoader at 0x177d3979f50>"
      ]
     },
     "execution_count": 10,
     "metadata": {},
     "output_type": "execute_result"
    }
   ],
   "source": [
    "narratives_data_module.train_dataloader()"
   ]
  },
  {
   "cell_type": "markdown",
   "metadata": {},
   "source": [
    "# Section 3: Model"
   ]
  },
  {
   "cell_type": "code",
   "execution_count": 11,
   "metadata": {},
   "outputs": [],
   "source": [
    "from Model import NarrativesClassifier"
   ]
  },
  {
   "cell_type": "code",
   "execution_count": 12,
   "metadata": {},
   "outputs": [],
   "source": [
    "config = {\n",
    "    'model_name': 'distilroberta-base',\n",
    "    'n_labels': len(attributes),\n",
    "    'batch_size': 128,\n",
    "    'lr': 1.5e-6,\n",
    "    'warmup': 0.2, \n",
    "    'train_size': len(narratives_data_module.train_dataloader()),\n",
    "    'weight_decay': 0.001,\n",
    "    'n_epochs': 100\n",
    "}"
   ]
  },
  {
   "cell_type": "code",
   "execution_count": 13,
   "metadata": {},
   "outputs": [],
   "source": [
    "model = NarrativesClassifier(config = config)"
   ]
  },
  {
   "cell_type": "code",
   "execution_count": 14,
   "metadata": {},
   "outputs": [
    {
     "name": "stderr",
     "output_type": "stream",
     "text": [
      "c:\\Users\\patri\\repos\\ths-roberta\\NarrativesDataset.py:23: FutureWarning: Series.__getitem__ treating keys as positions is deprecated. In a future version, integer keys will always be treated as labels (consistent with DataFrame behavior). To access a value by position, use `ser.iloc[pos]`\n",
      "  attributes = torch.FloatTensor(item[self.attributes])\n"
     ]
    },
    {
     "name": "stdout",
     "output_type": "stream",
     "text": [
      "torch.Size([52]) torch.Size([1, 52]) tensor([[ 0.0362, -0.6145,  0.4954, -0.1430, -0.1388, -0.2135, -0.4763,  0.1844,\n",
      "         -0.1920, -0.1797, -0.1824,  0.3460, -0.0841, -0.0117,  0.3120, -0.0570,\n",
      "          0.1233,  0.2109, -0.3898, -0.1431,  0.4822, -0.0823, -0.0632,  0.4562,\n",
      "          0.1804,  0.3494,  0.6205, -0.2177,  0.2459,  0.2278, -0.2668, -0.4082,\n",
      "          0.1012,  0.4557, -0.3533,  0.0394, -0.3531, -0.2147,  0.3429, -0.2586,\n",
      "          0.0225, -0.1630,  0.1727,  0.3355,  0.2939, -0.4444,  0.1970,  0.1957,\n",
      "         -0.1840,  0.7461,  0.5237,  0.4791]], grad_fn=<AddmmBackward0>)\n"
     ]
    }
   ],
   "source": [
    "idx = 0\n",
    "input_ids = n_ds_train.__getitem__(idx)['input_ids']\n",
    "attention_mask = n_ds_train.__getitem__(idx)['attention_mask']\n",
    "labels = n_ds_train.__getitem__(idx)['labels']\n",
    "model.cpu()\n",
    "loss, output = model(input_ids.unsqueeze(dim = 0), attention_mask.unsqueeze(dim = 0), labels.unsqueeze(dim = 0))\n",
    "print(labels.shape, output.shape, output)"
   ]
  },
  {
   "cell_type": "markdown",
   "metadata": {},
   "source": [
    "# Section 4: Training the model"
   ]
  },
  {
   "cell_type": "code",
   "execution_count": 15,
   "metadata": {},
   "outputs": [],
   "source": [
    "narratives_data_module = NarrativesDataModule(train_path, val_path, attributes = attributes, batch_size = config['batch_size'], num_workers = num_workers)\n",
    "narratives_data_module.setup()"
   ]
  },
  {
   "cell_type": "code",
   "execution_count": 16,
   "metadata": {},
   "outputs": [],
   "source": [
    "model = NarrativesClassifier(config = config)"
   ]
  },
  {
   "cell_type": "code",
   "execution_count": 17,
   "metadata": {},
   "outputs": [],
   "source": [
    "import pytorch_lightning as pl\n",
    "\n",
    "# trainer = pl.Trainer(max_epochs = config['n_epochs'], num_sanity_val_steps = 50)\n",
    "# trainer.fit(model, narratives_data_module)"
   ]
  },
  {
   "cell_type": "code",
   "execution_count": 18,
   "metadata": {},
   "outputs": [],
   "source": [
    "import pickle"
   ]
  },
  {
   "cell_type": "code",
   "execution_count": 19,
   "metadata": {},
   "outputs": [],
   "source": [
    "# with open('trainer.pkl', 'wb') as f:\n",
    "#     pickle.dump(trainer, f)"
   ]
  },
  {
   "cell_type": "code",
   "execution_count": 26,
   "metadata": {},
   "outputs": [],
   "source": [
    "#load trainer file\n",
    "with open('trainers/trainer-1.pkl', 'rb') as f:\n",
    "    trainer = pickle.load(f)"
   ]
  },
  {
   "cell_type": "markdown",
   "metadata": {},
   "source": [
    "# Section 5: Predict"
   ]
  },
  {
   "cell_type": "code",
   "execution_count": 27,
   "metadata": {},
   "outputs": [],
   "source": [
    "def classify_narratives(model, dm):\n",
    "    predictions = trainer.predict(model, datamodule = dm)\n",
    "    flattened_predictions = np.stack([torch.sigmoid(torch.Tensor(p)) for batch in predictions for p in batch])\n",
    "    return flattened_predictions"
   ]
  },
  {
   "cell_type": "code",
   "execution_count": 28,
   "metadata": {},
   "outputs": [
    {
     "name": "stdout",
     "output_type": "stream",
     "text": [
      "WARNING:tensorflow:From c:\\Users\\patri\\AppData\\Local\\Programs\\Python\\Python311\\Lib\\site-packages\\keras\\src\\losses.py:2976: The name tf.losses.sparse_softmax_cross_entropy is deprecated. Please use tf.compat.v1.losses.sparse_softmax_cross_entropy instead.\n",
      "\n"
     ]
    },
    {
     "name": "stderr",
     "output_type": "stream",
     "text": [
      "c:\\Users\\patri\\AppData\\Local\\Programs\\Python\\Python311\\Lib\\site-packages\\pytorch_lightning\\trainer\\connectors\\data_connector.py:436: Consider setting `persistent_workers=True` in 'predict_dataloader' to speed up the dataloader worker initialization.\n"
     ]
    },
    {
     "name": "stdout",
     "output_type": "stream",
     "text": [
      "Predicting DataLoader 0: 100%|██████████| 3/3 [00:18<00:00,  0.16it/s]\n"
     ]
    }
   ],
   "source": [
    "predictions = classify_narratives(model, narratives_data_module)"
   ]
  },
  {
   "cell_type": "code",
   "execution_count": 29,
   "metadata": {},
   "outputs": [
    {
     "name": "stdout",
     "output_type": "stream",
     "text": [
      "[[0.4982392  0.61150753 0.44828844 ... 0.46487066 0.4986256  0.4870718 ]\n",
      " [0.5031765  0.6037748  0.44484225 ... 0.46609148 0.50602067 0.4847694 ]\n",
      " [0.5080765  0.61372787 0.44679433 ... 0.4580413  0.5104502  0.49416658]\n",
      " ...\n",
      " [0.50784826 0.61677676 0.44505563 ... 0.4656463  0.5187624  0.5063217 ]\n",
      " [0.5062059  0.61167884 0.44529712 ... 0.45994824 0.50693816 0.49180958]\n",
      " [0.51076835 0.6154215  0.4462734  ... 0.4658167  0.516833   0.4850943 ]]\n"
     ]
    }
   ],
   "source": [
    "print(predictions)"
   ]
  },
  {
   "cell_type": "code",
   "execution_count": 30,
   "metadata": {},
   "outputs": [],
   "source": [
    "val_data = narratives_data_module.val_dataset.data\n",
    "true_labels = np.array(val_data[attributes])"
   ]
  },
  {
   "cell_type": "code",
   "execution_count": 31,
   "metadata": {},
   "outputs": [
    {
     "name": "stdout",
     "output_type": "stream",
     "text": [
      "Misplacing or losing things: 6.73\n",
      "Silly practical mistakes: 1.92\n",
      "Trouble with pets: 98.08\n",
      "Difficulties with friends: 98.08\n",
      "Regrets over past decision/s: 98.08\n",
      "Concerned about the meaning of life: 1.92\n",
      "Being lonely: 1.92\n",
      "Inability to express oneself: 65.38\n",
      "Fear of rejection: 98.08\n",
      "Trouble making decisions: 1.92\n",
      "Physical appearance: 98.08\n",
      "Not seeing people: 96.47\n",
      "Troubling thoughts about one’s future: 1.92\n",
      "Not enough personal energy: 1.92\n",
      "Concerns about getting ahead: 98.08\n",
      "Fear of confrontation: 98.08\n",
      "Wasting time: 98.08\n",
      "Not enough money for basic necessities (food, clothing, transportation, housing, healthcare etc.): 33.97\n",
      "Not enough money for wants (entertainment and recreation): 95.83\n",
      "Concerns about owing money: 98.08\n",
      "Concerns about money for emergencies: 1.92\n",
      "Financial security: 98.08\n",
      "Not enough time to do things one needs to: 98.08\n",
      "Too many responsibilities: 84.62\n",
      "Not getting enough rest: 98.08\n",
      "Too many interruptions: 98.08\n",
      "Not enough time for entertainment and recreation: 5.13\n",
      "Too many meetings: 97.12\n",
      "Social obligations: 1.92\n",
      "Concerns about meeting high standards: 1.92\n",
      "Noise: 61.86\n",
      "Pollution: 98.08\n",
      "Crime: 98.08\n",
      "Traffic: 98.08\n",
      "Concerns about news events: 93.59\n",
      "Rising prices of common goods: 98.08\n",
      "Concerns about accidents: 96.79\n",
      "Yardwork or outside home maintenance: 1.92\n",
      "Overloaded with family responsibilities: 79.17\n",
      "Home maintenance (inside): 1.92\n",
      "Concerns about medical treatment: 1.92\n",
      "Physical illness: 70.83\n",
      "Side effects of medication: 1.92\n",
      "Concerns about health in general: 97.76\n",
      "Concerns about bodily functions: 98.08\n",
      "Dissatisfaction with academic performance: 98.08\n",
      "Challenges with instructors: 1.92\n",
      "Discontent with current academic responsibilities: 98.08\n",
      "Concerns regarding academic transitions: 98.08\n",
      "Difficulties with peers or classmates: 98.08\n",
      "Challenges in managing group projects: 17.63\n",
      "Getting late to class: 86.22\n"
     ]
    }
   ],
   "source": [
    "from sklearn.metrics import classification_report, accuracy_score\n",
    "\n",
    "for i, attribute in enumerate(attributes):\n",
    "    accuracy = accuracy_score(true_labels[:,i].astype(int), predictions[:,i].round())\n",
    "    print('%s: %.2f' %(attribute, accuracy*100))"
   ]
  }
 ],
 "metadata": {
  "kernelspec": {
   "display_name": "Python 3",
   "language": "python",
   "name": "python3"
  },
  "language_info": {
   "codemirror_mode": {
    "name": "ipython",
    "version": 3
   },
   "file_extension": ".py",
   "mimetype": "text/x-python",
   "name": "python",
   "nbconvert_exporter": "python",
   "pygments_lexer": "ipython3",
   "version": "3.11.7"
  }
 },
 "nbformat": 4,
 "nbformat_minor": 2
}
