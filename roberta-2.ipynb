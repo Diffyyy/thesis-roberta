{
 "cells": [
  {
   "cell_type": "markdown",
   "metadata": {},
   "source": [
    "# Narratives Classification using a Hierarchical Approach\n",
    "\n",
    "### Pipeline:\n",
    "\n",
    "1. Modify current dataset to only include category of the hassle\n",
    "2. Train RoBertA\n",
    "3. Make predictions\n",
    "4. Compare performance vs old model\n",
    "5. If there are improvements, modify dataset again to include the specific hassle for each category (need to train 1 model for each category)\n",
    "6. Make 2nd predictions\n",
    "7. Compare performance vs old model\n"
   ]
  },
  {
   "cell_type": "markdown",
   "metadata": {},
   "source": [
    "# Section 1: Importing of libraries"
   ]
  },
  {
   "cell_type": "code",
   "execution_count": 51,
   "metadata": {},
   "outputs": [],
   "source": [
    "import os\n",
    "import numpy as np\n",
    "import pandas as pd\n",
    "import matplotlib.pyplot as plt\n",
    "import torch\n",
    "\n",
    "from transformers import AutoTokenizer\n",
    "from sklearn.metrics import classification_report, accuracy_score\n",
    "\n",
    "from NarrativesDataset import NarrativesDataset\n",
    "from DataModule import NarrativesDataModule\n",
    "from Model import NarrativesClassifier"
   ]
  },
  {
   "cell_type": "markdown",
   "metadata": {},
   "source": [
    "# Section 2: Cleaning the dataset"
   ]
  },
  {
   "cell_type": "code",
   "execution_count": 52,
   "metadata": {},
   "outputs": [],
   "source": [
    "train_path = 'data/train-1.csv'\n",
    "val_path = 'data/val-1.csv'\n",
    "num_workers = 4\n",
    "\n",
    "temp_df = pd.read_csv(train_path)\n",
    "temp_df.rename(columns={\"Troubling thoughts about one’s future\": \"Troubling thoughts about ones future\"}, inplace = True)\n",
    "temp_val_df = pd.read_csv(val_path)\n",
    "temp_val_df.rename(columns={\"Troubling thoughts about one’s future\": \"Troubling thoughts about ones future\"}, inplace = True)\n",
    "\n"
   ]
  },
  {
   "cell_type": "code",
   "execution_count": 53,
   "metadata": {},
   "outputs": [],
   "source": [
    "categories = {\n",
    "    'General Hassles': ['Misplacing or losing things', 'Silly practical mistakes', 'Trouble with pets', 'Difficulties with friends'],\n",
    "    'Inner Concerns': ['Regrets over past decision/s', 'Concerned about the meaning of life', 'Being lonely', 'Inability to express oneself', 'Fear of rejection', 'Trouble making decisions', 'Physical appearance', 'Not seeing people', \"Troubling thoughts about ones future\", 'Not enough personal energy', 'Concerns about getting ahead', 'Fear of confrontation', 'Wasting time'],\n",
    "    'Financial Concerns': ['Not enough money for basic necessities (food, clothing, transportation, housing, healthcare etc.)', 'Not enough money for wants (entertainment and recreation)', 'Concerns about owing money', 'Concerns about money for emergencies', 'Financial security'],\n",
    "    'Time Pressures': ['Not enough time to do things one needs to', 'Too many responsibilities', 'Not getting enough rest', 'Too many interruptions', 'Not enough time for entertainment and recreation', 'Too many meetings', 'Social obligations', 'Concerns about meeting high standards', 'Noise'],\n",
    "    'Environmental Hassles': ['Pollution', 'Crime', 'Traffic', 'Concerns about news events', 'Rising prices of common goods', 'Concerns about accidents'],\n",
    "    'Family Hassles': ['Yardwork or outside home maintenance', 'Overloaded with family responsibilities', 'Home maintenance (inside)'],\n",
    "    'Health Hassles': ['Concerns about medical treatment', 'Physical illness', 'Side effects of medication', 'Concerns about health in general', 'Concerns about bodily functions'],\n",
    "    'Academic Hassles': ['Dissatisfaction with academic performance', 'Challenges with instructors', 'Discontent with current academic responsibilities', 'Concerns regarding academic transitions', 'Difficulties with peers or classmates', 'Challenges in managing group projects', 'Getting late to class']\n",
    "}"
   ]
  },
  {
   "cell_type": "code",
   "execution_count": 54,
   "metadata": {},
   "outputs": [],
   "source": [
    "train_df = pd.DataFrame()\n",
    "val_df = pd.DataFrame()\n",
    "train_df['Narrative'] = temp_df['Narrative']\n",
    "val_df['Narrative'] = temp_val_df['Narrative']"
   ]
  },
  {
   "cell_type": "code",
   "execution_count": 55,
   "metadata": {},
   "outputs": [],
   "source": [
    "for category, hassles in categories.items():\n",
    "    train_df[category] = temp_df[hassles].max(axis =1 )\n",
    "    val_df[category] = temp_val_df[hassles].max(axis = 1)"
   ]
  },
  {
   "cell_type": "code",
   "execution_count": 56,
   "metadata": {},
   "outputs": [
    {
     "data": {
      "text/plain": [
       "General Hassles          120\n",
       "Inner Concerns           390\n",
       "Financial Concerns       150\n",
       "Time Pressures           270\n",
       "Environmental Hassles    180\n",
       "Family Hassles            90\n",
       "Health Hassles           150\n",
       "Academic Hassles         210\n",
       "dtype: int64"
      ]
     },
     "execution_count": 56,
     "metadata": {},
     "output_type": "execute_result"
    }
   ],
   "source": [
    "#check the number of row per category\n",
    "category = ['General Hassles', 'Inner Concerns', 'Financial Concerns', 'Time Pressures', 'Environmental Hassles', 'Family Hassles', 'Health Hassles', 'Academic Hassles']\n",
    "label_counts = train_df[category].sum(axis = 0)\n",
    "label_counts"
   ]
  },
  {
   "cell_type": "code",
   "execution_count": 57,
   "metadata": {},
   "outputs": [],
   "source": [
    "grouped = train_df.groupby(category)\n",
    "train_df_final = []\n",
    "for category, train_df in grouped:\n",
    "    temp_df = train_df.sample(n = 90, random_state = 42)\n",
    "    train_df_final.append(temp_df)\n",
    "\n",
    "temp_df = pd.concat(train_df_final)\n",
    "temp_df.reset_index(drop = True, inplace = True)"
   ]
  },
  {
   "cell_type": "code",
   "execution_count": 58,
   "metadata": {},
   "outputs": [
    {
     "data": {
      "text/html": [
       "<div>\n",
       "<style scoped>\n",
       "    .dataframe tbody tr th:only-of-type {\n",
       "        vertical-align: middle;\n",
       "    }\n",
       "\n",
       "    .dataframe tbody tr th {\n",
       "        vertical-align: top;\n",
       "    }\n",
       "\n",
       "    .dataframe thead th {\n",
       "        text-align: right;\n",
       "    }\n",
       "</style>\n",
       "<table border=\"1\" class=\"dataframe\">\n",
       "  <thead>\n",
       "    <tr style=\"text-align: right;\">\n",
       "      <th></th>\n",
       "      <th>Narrative</th>\n",
       "      <th>General Hassles</th>\n",
       "      <th>Inner Concerns</th>\n",
       "      <th>Financial Concerns</th>\n",
       "      <th>Time Pressures</th>\n",
       "      <th>Environmental Hassles</th>\n",
       "      <th>Family Hassles</th>\n",
       "      <th>Health Hassles</th>\n",
       "      <th>Academic Hassles</th>\n",
       "    </tr>\n",
       "  </thead>\n",
       "  <tbody>\n",
       "    <tr>\n",
       "      <th>0</th>\n",
       "      <td>Today was quite a challenging day at DLSU. Dea...</td>\n",
       "      <td>0</td>\n",
       "      <td>0</td>\n",
       "      <td>0</td>\n",
       "      <td>0</td>\n",
       "      <td>0</td>\n",
       "      <td>0</td>\n",
       "      <td>0</td>\n",
       "      <td>1</td>\n",
       "    </tr>\n",
       "    <tr>\n",
       "      <th>1</th>\n",
       "      <td>I woke up this morning feeling overwhelmed by ...</td>\n",
       "      <td>0</td>\n",
       "      <td>0</td>\n",
       "      <td>0</td>\n",
       "      <td>0</td>\n",
       "      <td>0</td>\n",
       "      <td>0</td>\n",
       "      <td>0</td>\n",
       "      <td>1</td>\n",
       "    </tr>\n",
       "    <tr>\n",
       "      <th>2</th>\n",
       "      <td>Today was just another day filled with the usu...</td>\n",
       "      <td>0</td>\n",
       "      <td>0</td>\n",
       "      <td>0</td>\n",
       "      <td>0</td>\n",
       "      <td>0</td>\n",
       "      <td>0</td>\n",
       "      <td>0</td>\n",
       "      <td>1</td>\n",
       "    </tr>\n",
       "    <tr>\n",
       "      <th>3</th>\n",
       "      <td>So, like, I wake up in the morning and realize...</td>\n",
       "      <td>0</td>\n",
       "      <td>0</td>\n",
       "      <td>0</td>\n",
       "      <td>0</td>\n",
       "      <td>0</td>\n",
       "      <td>0</td>\n",
       "      <td>0</td>\n",
       "      <td>1</td>\n",
       "    </tr>\n",
       "    <tr>\n",
       "      <th>4</th>\n",
       "      <td>Today was just one of those days. I woke up fe...</td>\n",
       "      <td>0</td>\n",
       "      <td>0</td>\n",
       "      <td>0</td>\n",
       "      <td>0</td>\n",
       "      <td>0</td>\n",
       "      <td>0</td>\n",
       "      <td>0</td>\n",
       "      <td>1</td>\n",
       "    </tr>\n",
       "    <tr>\n",
       "      <th>...</th>\n",
       "      <td>...</td>\n",
       "      <td>...</td>\n",
       "      <td>...</td>\n",
       "      <td>...</td>\n",
       "      <td>...</td>\n",
       "      <td>...</td>\n",
       "      <td>...</td>\n",
       "      <td>...</td>\n",
       "      <td>...</td>\n",
       "    </tr>\n",
       "    <tr>\n",
       "      <th>715</th>\n",
       "      <td>Today was one of those days filled with silly ...</td>\n",
       "      <td>1</td>\n",
       "      <td>0</td>\n",
       "      <td>0</td>\n",
       "      <td>0</td>\n",
       "      <td>0</td>\n",
       "      <td>0</td>\n",
       "      <td>0</td>\n",
       "      <td>0</td>\n",
       "    </tr>\n",
       "    <tr>\n",
       "      <th>716</th>\n",
       "      <td>Today started off with a series of silly pract...</td>\n",
       "      <td>1</td>\n",
       "      <td>0</td>\n",
       "      <td>0</td>\n",
       "      <td>0</td>\n",
       "      <td>0</td>\n",
       "      <td>0</td>\n",
       "      <td>0</td>\n",
       "      <td>0</td>\n",
       "    </tr>\n",
       "    <tr>\n",
       "      <th>717</th>\n",
       "      <td>Today started off with a series of silly pract...</td>\n",
       "      <td>1</td>\n",
       "      <td>0</td>\n",
       "      <td>0</td>\n",
       "      <td>0</td>\n",
       "      <td>0</td>\n",
       "      <td>0</td>\n",
       "      <td>0</td>\n",
       "      <td>0</td>\n",
       "    </tr>\n",
       "    <tr>\n",
       "      <th>718</th>\n",
       "      <td>Today was quite a rollercoaster. Waking up lat...</td>\n",
       "      <td>1</td>\n",
       "      <td>0</td>\n",
       "      <td>0</td>\n",
       "      <td>0</td>\n",
       "      <td>0</td>\n",
       "      <td>0</td>\n",
       "      <td>0</td>\n",
       "      <td>0</td>\n",
       "    </tr>\n",
       "    <tr>\n",
       "      <th>719</th>\n",
       "      <td>Today started off with a series of silly pract...</td>\n",
       "      <td>1</td>\n",
       "      <td>0</td>\n",
       "      <td>0</td>\n",
       "      <td>0</td>\n",
       "      <td>0</td>\n",
       "      <td>0</td>\n",
       "      <td>0</td>\n",
       "      <td>0</td>\n",
       "    </tr>\n",
       "  </tbody>\n",
       "</table>\n",
       "<p>720 rows × 9 columns</p>\n",
       "</div>"
      ],
      "text/plain": [
       "                                             Narrative  General Hassles  \\\n",
       "0    Today was quite a challenging day at DLSU. Dea...                0   \n",
       "1    I woke up this morning feeling overwhelmed by ...                0   \n",
       "2    Today was just another day filled with the usu...                0   \n",
       "3    So, like, I wake up in the morning and realize...                0   \n",
       "4    Today was just one of those days. I woke up fe...                0   \n",
       "..                                                 ...              ...   \n",
       "715  Today was one of those days filled with silly ...                1   \n",
       "716  Today started off with a series of silly pract...                1   \n",
       "717  Today started off with a series of silly pract...                1   \n",
       "718  Today was quite a rollercoaster. Waking up lat...                1   \n",
       "719  Today started off with a series of silly pract...                1   \n",
       "\n",
       "     Inner Concerns  Financial Concerns  Time Pressures  \\\n",
       "0                 0                   0               0   \n",
       "1                 0                   0               0   \n",
       "2                 0                   0               0   \n",
       "3                 0                   0               0   \n",
       "4                 0                   0               0   \n",
       "..              ...                 ...             ...   \n",
       "715               0                   0               0   \n",
       "716               0                   0               0   \n",
       "717               0                   0               0   \n",
       "718               0                   0               0   \n",
       "719               0                   0               0   \n",
       "\n",
       "     Environmental Hassles  Family Hassles  Health Hassles  Academic Hassles  \n",
       "0                        0               0               0                 1  \n",
       "1                        0               0               0                 1  \n",
       "2                        0               0               0                 1  \n",
       "3                        0               0               0                 1  \n",
       "4                        0               0               0                 1  \n",
       "..                     ...             ...             ...               ...  \n",
       "715                      0               0               0                 0  \n",
       "716                      0               0               0                 0  \n",
       "717                      0               0               0                 0  \n",
       "718                      0               0               0                 0  \n",
       "719                      0               0               0                 0  \n",
       "\n",
       "[720 rows x 9 columns]"
      ]
     },
     "execution_count": 58,
     "metadata": {},
     "output_type": "execute_result"
    }
   ],
   "source": [
    "temp_df"
   ]
  },
  {
   "cell_type": "code",
   "execution_count": null,
   "metadata": {},
   "outputs": [],
   "source": [
    "directory = 'hierarchical_data/'\n",
    "\n",
    "#train data\n",
    "train_filename = 'hierarchical_equal_train-1.csv'\n",
    "train_filepath = directory + train_filename\n",
    "train_df.to_csv(train_filepath, index = False)\n",
    "temp_df.to_csv(train_filepath, index = False)\n",
    "\n",
    "#val data\n",
    "# val_filename = 'hierarchical_equal_val-1.csv'\n",
    "# val_filepath = directory + val_filename\n",
    "# val_df.to_csv(val_filepath, index = False)"
   ]
  },
  {
   "cell_type": "markdown",
   "metadata": {},
   "source": [
    "# Section 3: Model"
   ]
  },
  {
   "cell_type": "markdown",
   "metadata": {},
   "source": [
    "# Section 4: Model Training"
   ]
  },
  {
   "cell_type": "markdown",
   "metadata": {},
   "source": [
    "# Section 5: Making Predictions"
   ]
  }
 ],
 "metadata": {
  "kernelspec": {
   "display_name": "Python 3",
   "language": "python",
   "name": "python3"
  },
  "language_info": {
   "codemirror_mode": {
    "name": "ipython",
    "version": 3
   },
   "file_extension": ".py",
   "mimetype": "text/x-python",
   "name": "python",
   "nbconvert_exporter": "python",
   "pygments_lexer": "ipython3",
   "version": "3.11.7"
  }
 },
 "nbformat": 4,
 "nbformat_minor": 2
}
