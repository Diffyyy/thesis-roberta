{
 "cells": [
  {
   "cell_type": "markdown",
   "metadata": {},
   "source": [
    "# Narratives Classification using a Hierarchical Approach\n",
    "\n",
    "### Pipeline:\n",
    "\n",
    "1. Modify current dataset to only include category of the hassle\n",
    "2. Train RoBertA\n",
    "3. Make predictions\n",
    "4. Compare performance vs old model\n",
    "5. If there are improvements, modify dataset again to include the specific hassle for each category (need to train 1 model for each category)\n",
    "6. Make 2nd predictions\n",
    "7. Compare performance vs old model\n"
   ]
  },
  {
   "cell_type": "markdown",
   "metadata": {},
   "source": [
    "# Section 1: Importing of libraries"
   ]
  },
  {
   "cell_type": "code",
   "execution_count": 58,
   "metadata": {},
   "outputs": [],
   "source": [
    "import os\n",
    "import numpy as np\n",
    "import pandas as pd\n",
    "import matplotlib.pyplot as plt\n",
    "import torch\n",
    "\n",
    "from transformers import AutoTokenizer\n",
    "from sklearn.metrics import classification_report, accuracy_score\n",
    "\n",
    "from NarrativesDataset import NarrativesDataset\n",
    "from DataModule import NarrativesDataModule\n",
    "from Model import NarrativesClassifier"
   ]
  },
  {
   "cell_type": "markdown",
   "metadata": {},
   "source": [
    "# Section 2: Cleaning the dataset"
   ]
  },
  {
   "cell_type": "code",
   "execution_count": 59,
   "metadata": {},
   "outputs": [],
   "source": [
    "train_path = 'data/train-1.csv'\n",
    "val_path = 'data/val-1.csv'\n",
    "num_workers = 4\n",
    "\n",
    "temp_df = pd.read_csv(train_path)\n",
    "temp_df.rename(columns={\"Troubling thoughts about one’s future\": \"Troubling thoughts about ones future\"}, inplace = True)\n",
    "temp_val_df = pd.read_csv(val_path)\n",
    "temp_val_df.rename(columns={\"Troubling thoughts about one’s future\": \"Troubling thoughts about ones future\"}, inplace = True)\n",
    "\n"
   ]
  },
  {
   "cell_type": "code",
   "execution_count": 60,
   "metadata": {},
   "outputs": [],
   "source": [
    "categories = {\n",
    "    'General hassles': ['Misplacing or losing things', 'Silly practical mistakes', 'Trouble with pets', 'Difficulties with friends'],\n",
    "    'Inner concerns': ['Regrets over past decision/s', 'Concerned about the meaning of life', 'Being lonely', 'Inability to express oneself', 'Fear of rejection', 'Trouble making decisions', 'Physical appearance', 'Not seeing people', \"Troubling thoughts about ones future\", 'Not enough personal energy', 'Concerns about getting ahead', 'Fear of confrontation', 'Wasting time'],\n",
    "    'Financial concerns': ['Not enough money for basic necessities (food, clothing, transportation, housing, healthcare etc.)', 'Not enough money for wants (entertainment and recreation)', 'Concerns about owing money', 'Concerns about money for emergencies', 'Financial security'],\n",
    "    'Time Pressures': ['Not enough time to do things one needs to', 'Too many responsibilities', 'Not getting enough rest', 'Too many interruptions', 'Not enough time for entertainment and recreation', 'Too many meetings', 'Social obligations', 'Concerns about meeting high standards', 'Noise'],\n",
    "    'Environmental Hassles': ['Pollution', 'Crime', 'Traffic', 'Concerns about news events', 'Rising prices of common goods', 'Concerns about accidents'],\n",
    "    'Family Hassles': ['Yardwork or outside home maintenance', 'Overloaded with family responsibilities', 'Home maintenance (inside)'],\n",
    "    'Health Hassles': ['Concerns about medical treatment', 'Physical illness', 'Side effects of medication', 'Concerns about health in general', 'Concerns about bodily functions'],\n",
    "    'Academic Hassles': ['Dissatisfaction with academic performance', 'Challenges with instructors', 'Discontent with current academic responsibilities', 'Concerns regarding academic transitions', 'Difficulties with peers or classmates', 'Challenges in managing group projects', 'Getting late to class']\n",
    "}"
   ]
  },
  {
   "cell_type": "code",
   "execution_count": 61,
   "metadata": {},
   "outputs": [],
   "source": [
    "train_df = pd.DataFrame()\n",
    "val_df = pd.DataFrame()\n",
    "train_df['Narrative'] = temp_df['Narrative']\n",
    "val_df['Narrative'] = temp_val_df['Narrative']"
   ]
  },
  {
   "cell_type": "code",
   "execution_count": 62,
   "metadata": {},
   "outputs": [],
   "source": [
    "for category, hassles in categories.items():\n",
    "    train_df[category] = temp_df[hassles].max(axis =1 )\n",
    "    val_df[category] = temp_val_df[hassles].max(axis = 1)"
   ]
  },
  {
   "cell_type": "code",
   "execution_count": 63,
   "metadata": {},
   "outputs": [],
   "source": [
    "directory = 'hierarchical_data/'\n",
    "train_filename = 'hierarchical_train-1.csv'\n",
    "val_filename = 'hierarchical_val-1.csv'\n",
    "\n",
    "train_filepath = directory + train_filename\n",
    "val_filepath = directory + val_filename\n",
    "\n",
    "train_df.to_csv(train_filepath, index = False)\n",
    "val_df.to_csv(val_filepath, index = False)"
   ]
  },
  {
   "cell_type": "markdown",
   "metadata": {},
   "source": [
    "# Section 3: Model"
   ]
  },
  {
   "cell_type": "markdown",
   "metadata": {},
   "source": [
    "# Section 4: Model Training"
   ]
  },
  {
   "cell_type": "markdown",
   "metadata": {},
   "source": [
    "# Section 5: Making Predictions"
   ]
  }
 ],
 "metadata": {
  "kernelspec": {
   "display_name": "Python 3",
   "language": "python",
   "name": "python3"
  },
  "language_info": {
   "codemirror_mode": {
    "name": "ipython",
    "version": 3
   },
   "file_extension": ".py",
   "mimetype": "text/x-python",
   "name": "python",
   "nbconvert_exporter": "python",
   "pygments_lexer": "ipython3",
   "version": "3.11.7"
  }
 },
 "nbformat": 4,
 "nbformat_minor": 2
}
