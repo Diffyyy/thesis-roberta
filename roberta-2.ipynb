{
 "cells": [
  {
   "cell_type": "markdown",
   "metadata": {},
   "source": [
    "# Section 1: Import Libraries and Reading the dataset"
   ]
  },
  {
   "cell_type": "code",
   "execution_count": 1,
   "metadata": {},
   "outputs": [
    {
     "name": "stderr",
     "output_type": "stream",
     "text": [
      "c:\\Users\\patri\\AppData\\Local\\Programs\\Python\\Python311\\Lib\\site-packages\\tqdm\\auto.py:21: TqdmWarning: IProgress not found. Please update jupyter and ipywidgets. See https://ipywidgets.readthedocs.io/en/stable/user_install.html\n",
      "  from .autonotebook import tqdm as notebook_tqdm\n"
     ]
    }
   ],
   "source": [
    "import os\n",
    "import numpy as np\n",
    "import pandas as pd\n",
    "import matplotlib.pyplot as plt\n",
    "import torch\n",
    "import pytorch_lightning as pl\n",
    "\n",
    "\n",
    "from transformers import AutoTokenizer\n",
    "from sklearn.metrics import classification_report, accuracy_score\n",
    "\n",
    "from NarrativesDataset import NarrativesDataset\n",
    "from Model import NarrativesClassifier\n",
    "from DataModule import NarrativesDataModule"
   ]
  },
  {
   "cell_type": "code",
   "execution_count": 2,
   "metadata": {},
   "outputs": [],
   "source": [
    "# filenames = ['General_hassles', 'Inner_concerns', 'Financial_concerns', 'Time_Pressures', 'Environmental_Hassles', 'Family_Hassles', 'Health_Hassles', 'Academic_Hassles']\n",
    "\n",
    "train_path = 'hierarchical_data/train_pt2/'\n",
    "val_path = 'hierarchical_data/val_pt2/'\n",
    "\n",
    "train_extension = '_train.csv'\n",
    "val_extension = '_val.csv'\n",
    "\n",
    "num_workers = 4"
   ]
  },
  {
   "cell_type": "code",
   "execution_count": 3,
   "metadata": {},
   "outputs": [],
   "source": [
    "# train_data = {}\n",
    "# val_data = {}"
   ]
  },
  {
   "cell_type": "code",
   "execution_count": 4,
   "metadata": {},
   "outputs": [],
   "source": [
    "# for filename in filenames:\n",
    "#     train_file = train_path + filename + train_extension\n",
    "#     val_file = val_path + filename + val_extension\n",
    "    \n",
    "#     train_data[filename] = pd.read_csv(train_file)\n",
    "#     val_data[filename] = pd.read_csv(val_file)"
   ]
  },
  {
   "cell_type": "markdown",
   "metadata": {},
   "source": [
    "# Section 2: Preparing the Dataset"
   ]
  },
  {
   "cell_type": "code",
   "execution_count": 5,
   "metadata": {},
   "outputs": [],
   "source": [
    "def read_dataset(filename):\n",
    "    train_file = train_path + filename + train_extension\n",
    "    val_file = val_path + filename + val_extension\n",
    "\n",
    "    train_data = pd.read_csv(train_file)\n",
    "    val_data = pd.read_csv(val_file)\n",
    "    return train_data, val_data, train_file, val_file"
   ]
  },
  {
   "cell_type": "code",
   "execution_count": 6,
   "metadata": {},
   "outputs": [],
   "source": [
    "def prepare_dataset(train_path, val_path, attributes):\n",
    "  model_name = 'roberta-base'\n",
    "  tokenizer = AutoTokenizer.from_pretrained(model_name)\n",
    "  n_ds_train = NarrativesDataset(data_path = train_path, tokenizer = tokenizer, attributes = attributes)\n",
    "  n_ds_val = NarrativesDataset(data_path = val_path, tokenizer = tokenizer, attributes = attributes)\n",
    "\n",
    "  narratives_data_module = NarrativesDataModule(train_path = train_path, val_path = val_path, attributes = attributes, num_workers = num_workers)\n",
    "  narratives_data_module.setup()\n",
    "  narratives_data_module.train_dataloader()\n",
    "\n",
    "  return narratives_data_module, n_ds_train, n_ds_val\n"
   ]
  },
  {
   "cell_type": "markdown",
   "metadata": {},
   "source": [
    "# Section 3: Model"
   ]
  },
  {
   "cell_type": "code",
   "execution_count": 7,
   "metadata": {},
   "outputs": [],
   "source": [
    "def initialize_model_config(attributes, narratives_data_module):\n",
    "  config = {\n",
    "      'model_name': 'distilroberta-base',\n",
    "      'n_labels': len(attributes),\n",
    "      'batch_size': 128,\n",
    "      'lr': 1.5e-6,\n",
    "      'warmup': 0.2,\n",
    "      'train_size': len(narratives_data_module.train_dataloader()),\n",
    "      'weight_decay': 0.001,\n",
    "      'n_epochs': 100\n",
    "  }\n",
    "  return config"
   ]
  },
  {
   "cell_type": "code",
   "execution_count": 8,
   "metadata": {},
   "outputs": [],
   "source": [
    "def initialize_model(attributes, narratives_data_module, n_ds_train):\n",
    "  config = initialize_model_config(attributes, narratives_data_module)\n",
    "  model = NarrativesClassifier(config = config)\n",
    "\n",
    "  idx = 0\n",
    "  input_ids = n_ds_train.__getitem__(idx)['input_ids']\n",
    "  attention_mask = n_ds_train.__getitem__(idx)['attention_mask']\n",
    "  labels = n_ds_train.__getitem__(idx)['labels']\n",
    "\n",
    "  model.cpu()\n",
    "  loss, output = model(input_ids.unsqueeze(dim = 0), attention_mask.unsqueeze(dim = 0), labels.unsqueeze(dim = 0))\n",
    "  print(labels.shape, output.shape, output)\n",
    "  return model"
   ]
  },
  {
   "cell_type": "markdown",
   "metadata": {},
   "source": [
    "# Section 4: Model Training"
   ]
  },
  {
   "cell_type": "code",
   "execution_count": 9,
   "metadata": {},
   "outputs": [],
   "source": [
    "def train_model(attributes, config, train_file, val_file):\n",
    "    narratives_data_module = NarrativesDataModule(train_file, val_file, attributes = attributes, batch_size = config['batch_size'], num_workers = num_workers)\n",
    "    narratives_data_module.setup()\n",
    "    model = NarrativesClassifier(config = config)\n",
    "    trainer = pl.Trainer(max_epochs = config['n_epochs'], num_sanity_val_steps = 50)\n",
    "    trainer.fit(model, narratives_data_module)\n",
    "    return trainer"
   ]
  },
  {
   "cell_type": "markdown",
   "metadata": {},
   "source": [
    "# Section 5: Model Prediction"
   ]
  },
  {
   "cell_type": "code",
   "execution_count": 10,
   "metadata": {},
   "outputs": [],
   "source": [
    "def classify_narratives(model, trainer, dm):\n",
    "    predictions = trainer.predict(model, datamodule = dm)\n",
    "    flattened_predictions = np.stack([torch.sigmoid(torch.Tensor(p)) for batch in predictions for p in batch])\n",
    "    return flattened_predictions\n",
    "\n",
    "def make_predictions(model, trainer, narratives_data_module, attributes):\n",
    "    predictions = classify_narratives(model, trainer, narratives_data_module)\n",
    "    val_data = narratives_data_module.val_dataset.data\n",
    "    true_labels = np.array(val_data[attributes])\n",
    "    for i, attribute in enumerate(attributes):\n",
    "        # accuracy = accuracy_score(true_labels[:,i].astype(int), predictions[:,i].round())\n",
    "        # print('%s: %.2f' %(attribute, accuracy*100))\n",
    "\n",
    "        report = classification_report(true_labels[:,i].astype(int), predictions[:,i].round())\n",
    "        print('Classification Report for %s:\\n%s' % (attribute, report))\n",
    "        # print(predictions)\n",
    "    return predictions"
   ]
  },
  {
   "cell_type": "code",
   "execution_count": null,
   "metadata": {},
   "outputs": [],
   "source": [
    "def show_predictions(predictions, attributes, val_data):\n",
    "    true_labels = np.array(val_data[attributes])\n",
    "\n",
    "    binary_predictions = np.where(predictions > 0.5, 1, 0)\n",
    "\n",
    "    comparison_df = pd.DataFrame()\n",
    "    comparison_df['Narrative'] = val_data['Narrative']\n",
    "\n",
    "    comparison_data = np.concatenate((true_labels, binary_predictions), axis=1)\n",
    "    columns = [f'True_{attr}' for attr in attributes] + [f'Pred_{attr}' for attr in attributes]\n",
    "    comparison_data_df = pd.DataFrame(comparison_data, columns=columns)\n",
    "\n",
    "    comparison_df = pd.concat([comparison_df, comparison_data_df], axis=1)\n",
    "\n",
    "    return comparison_df"
   ]
  },
  {
   "cell_type": "markdown",
   "metadata": {},
   "source": [
    "# Section 6 Looping through the dataset"
   ]
  },
  {
   "cell_type": "code",
   "execution_count": 11,
   "metadata": {},
   "outputs": [],
   "source": [
    "filenames = ['General_hassles', 'Inner_concerns', 'Financial_concerns', 'Time_Pressures', 'Environmental_Hassles', 'Family_Hassles', 'Health_Hassles', 'Academic_Hassles']\n",
    "filenames = ['Time_Pressures', 'Environmental_Hassles', 'Family_Hassles', 'Health_Hassles', 'Academic_Hassles']\n",
    "comparison_dfs = {}"
   ]
  },
  {
   "cell_type": "code",
   "execution_count": 12,
   "metadata": {},
   "outputs": [],
   "source": [
    "import joblib\n",
    "for filename in filenames:\n",
    "  train_data, val_data, train_file, val_file = read_dataset(filename)\n",
    "  attributes = train_data.columns[1:]\n",
    "  narratives_data_module, n_ds_train, n_ds_val = prepare_dataset(train_file, val_file, attributes)\n",
    "  config = initialize_model_config(attributes, narratives_data_module)\n",
    "  model = initialize_model(attributes, narratives_data_module, n_ds_train)\n",
    "  trainer = train_model(attributes, config, train_file, val_file)\n",
    "  model_filename = f\"{filename}_model.pkl\"\n",
    "  torch.save(model, '/content/drive/Shareddrives/THSExperiment/models/' + model_filename)\n",
    "  predictions = make_predictions(model, trainer, narratives_data_module, attributes)\n",
    "  comparison_df = show_predictions(predictions, attributes, val_data)\n",
    "  comparison_dfs[filename] = comparison_df"
   ]
  }
 ],
 "metadata": {
  "kernelspec": {
   "display_name": "Python 3",
   "language": "python",
   "name": "python3"
  },
  "language_info": {
   "codemirror_mode": {
    "name": "ipython",
    "version": 3
   },
   "file_extension": ".py",
   "mimetype": "text/x-python",
   "name": "python",
   "nbconvert_exporter": "python",
   "pygments_lexer": "ipython3",
   "version": "3.11.7"
  }
 },
 "nbformat": 4,
 "nbformat_minor": 2
}
